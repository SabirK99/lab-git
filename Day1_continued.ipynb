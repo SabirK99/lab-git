{
  "nbformat": 4,
  "nbformat_minor": 0,
  "metadata": {
    "colab": {
      "provenance": [],
      "authorship_tag": "ABX9TyMXvwzBdPxZC1Yjgngnxvwh",
      "include_colab_link": true
    },
    "kernelspec": {
      "name": "python3",
      "display_name": "Python 3"
    },
    "language_info": {
      "name": "python"
    }
  },
  "cells": [
    {
      "cell_type": "markdown",
      "metadata": {
        "id": "view-in-github",
        "colab_type": "text"
      },
      "source": [
        "<a href=\"https://colab.research.google.com/github/SabirK99/lab-git/blob/main/Day1_continued.ipynb\" target=\"_parent\"><img src=\"https://colab.research.google.com/assets/colab-badge.svg\" alt=\"Open In Colab\"/></a>"
      ]
    },
    {
      "cell_type": "code",
      "execution_count": 1,
      "metadata": {
        "id": "UhmpBv9dA3sA"
      },
      "outputs": [],
      "source": []
    },
    {
      "cell_type": "code",
      "source": [
        "my_list = []\n",
        "for element in original_list:\n",
        "  my_list.append(element*element)\n",
        "  "
      ],
      "metadata": {
        "id": "ja542b5UA7kl"
      },
      "execution_count": 2,
      "outputs": []
    },
    {
      "cell_type": "code",
      "source": [
        "my_list"
      ],
      "metadata": {
        "colab": {
          "base_uri": "https://localhost:8080/"
        },
        "id": "o5uccknaBgLj",
        "outputId": "9f7fe6f5-46ee-4a56-b7ae-a0300d0808a1"
      },
      "execution_count": 3,
      "outputs": [
        {
          "output_type": "execute_result",
          "data": {
            "text/plain": [
              "[4, 16, 36, 64]"
            ]
          },
          "metadata": {},
          "execution_count": 3
        }
      ]
    },
    {
      "cell_type": "code",
      "source": [
        "original_list = [2, 10, -1, 6, 8]"
      ],
      "metadata": {
        "id": "-6Twsb4ABhum"
      },
      "execution_count": 4,
      "outputs": []
    },
    {
      "cell_type": "code",
      "source": [
        "candidate = 0\n",
        "for number in original_list:\n",
        "  if number > candidate:\n",
        "    candidate = number\n",
        "  else:\n",
        "      continue\n",
        "\n",
        "candidate"
      ],
      "metadata": {
        "colab": {
          "base_uri": "https://localhost:8080/"
        },
        "id": "uMc8d_ajBp9x",
        "outputId": "d97d2b0e-b5a7-408e-a048-e725590589d3"
      },
      "execution_count": 8,
      "outputs": [
        {
          "output_type": "execute_result",
          "data": {
            "text/plain": [
              "10"
            ]
          },
          "metadata": {},
          "execution_count": 8
        }
      ]
    },
    {
      "cell_type": "code",
      "source": [
        "my_list_2 = [\"Jason\", \"Billy\", \"Kimberley\", \"Zack\", \"Triny\"]\n",
        "#appemd function adds an element to the end of the list, preppend adds an element to the start of the list\n",
        "#index function shows the position of an element in the list\n",
        "#pop function removes an element from the list\n",
        "#insert takes two arguments for this function to work, e.g. my_list_2.insert(2, 'Tommy')"
      ],
      "metadata": {
        "id": "OWEx_OJ-EYvW"
      },
      "execution_count": 9,
      "outputs": []
    },
    {
      "cell_type": "code",
      "source": [
        "my_list_2.insert(2, \"Tommy\")"
      ],
      "metadata": {
        "id": "KuyE9e1vGmyB"
      },
      "execution_count": 10,
      "outputs": []
    },
    {
      "cell_type": "code",
      "source": [
        "my_list_2"
      ],
      "metadata": {
        "colab": {
          "base_uri": "https://localhost:8080/"
        },
        "id": "GazAO19WGq6N",
        "outputId": "9e758a15-d888-4228-c5f9-1ebea4585d10"
      },
      "execution_count": 11,
      "outputs": [
        {
          "output_type": "execute_result",
          "data": {
            "text/plain": [
              "['Jason', 'Billy', 'Tommy', 'Kimberley', 'Zack', 'Triny']"
            ]
          },
          "metadata": {},
          "execution_count": 11
        }
      ]
    },
    {
      "cell_type": "code",
      "source": [
        "my_list_2.remove(\"Jason\")"
      ],
      "metadata": {
        "id": "G3alw7ZzGsEs"
      },
      "execution_count": 13,
      "outputs": []
    },
    {
      "cell_type": "code",
      "source": [
        "my_list_2"
      ],
      "metadata": {
        "colab": {
          "base_uri": "https://localhost:8080/"
        },
        "id": "j2C5m12WG1iL",
        "outputId": "fb2b3010-e411-4d7a-e979-6c10fab9dfff"
      },
      "execution_count": 14,
      "outputs": [
        {
          "output_type": "execute_result",
          "data": {
            "text/plain": [
              "['Billy', 'Tommy', 'Kimberley', 'Zack', 'Triny']"
            ]
          },
          "metadata": {},
          "execution_count": 14
        }
      ]
    },
    {
      "cell_type": "code",
      "source": [
        "my_list_2.pop(2)"
      ],
      "metadata": {
        "colab": {
          "base_uri": "https://localhost:8080/",
          "height": 35
        },
        "id": "2ENuJ93NG9Zs",
        "outputId": "2041c70a-8cab-4f2c-a5e8-d1ea95b69bd3"
      },
      "execution_count": 15,
      "outputs": [
        {
          "output_type": "execute_result",
          "data": {
            "text/plain": [
              "'Kimberley'"
            ],
            "application/vnd.google.colaboratory.intrinsic+json": {
              "type": "string"
            }
          },
          "metadata": {},
          "execution_count": 15
        }
      ]
    },
    {
      "cell_type": "code",
      "source": [
        "my_list.pop(2)"
      ],
      "metadata": {
        "colab": {
          "base_uri": "https://localhost:8080/"
        },
        "id": "QPNYs4x_HERM",
        "outputId": "b8746797-d6d5-4aca-9ace-6b14490121ab"
      },
      "execution_count": 16,
      "outputs": [
        {
          "output_type": "execute_result",
          "data": {
            "text/plain": [
              "36"
            ]
          },
          "metadata": {},
          "execution_count": 16
        }
      ]
    },
    {
      "cell_type": "code",
      "source": [
        "#pop function removes the index and remove function removes the object"
      ],
      "metadata": {
        "id": "zYomN75bHJ7G"
      },
      "execution_count": 17,
      "outputs": []
    },
    {
      "cell_type": "code",
      "source": [
        "original_list = [2,4,6,8]\n",
        "my_list = []\n",
        "for element in original_list:\n",
        "  my_list.append(element*element)"
      ],
      "metadata": {
        "id": "4MycNbeuHVZP"
      },
      "execution_count": 18,
      "outputs": []
    },
    {
      "cell_type": "code",
      "source": [
        "[element*element for element in original_list]"
      ],
      "metadata": {
        "colab": {
          "base_uri": "https://localhost:8080/"
        },
        "id": "iXpGx30fHr6C",
        "outputId": "c5bd3b43-ec5f-44af-8f9c-417f374ec6a2"
      },
      "execution_count": 19,
      "outputs": [
        {
          "output_type": "execute_result",
          "data": {
            "text/plain": [
              "[4, 16, 36, 64]"
            ]
          },
          "metadata": {},
          "execution_count": 19
        }
      ]
    },
    {
      "cell_type": "code",
      "source": [
        "my list = [element**2 for element in original_list]"
      ],
      "metadata": {
        "colab": {
          "base_uri": "https://localhost:8080/",
          "height": 130
        },
        "id": "6jRjjhuqHxul",
        "outputId": "117b2e81-be30-46e5-f363-85da60bb7838"
      },
      "execution_count": 20,
      "outputs": [
        {
          "output_type": "error",
          "ename": "SyntaxError",
          "evalue": "ignored",
          "traceback": [
            "\u001b[0;36m  File \u001b[0;32m\"<ipython-input-20-bf8a4b63062b>\"\u001b[0;36m, line \u001b[0;32m1\u001b[0m\n\u001b[0;31m    my list = [element**2 for element in original_list]\u001b[0m\n\u001b[0m       ^\u001b[0m\n\u001b[0;31mSyntaxError\u001b[0m\u001b[0;31m:\u001b[0m invalid syntax\n"
          ]
        }
      ]
    },
    {
      "cell_type": "code",
      "source": [
        "my_list = [element**2 for element in original_list]\n",
        "my_list"
      ],
      "metadata": {
        "colab": {
          "base_uri": "https://localhost:8080/"
        },
        "id": "YqE859bfIjhz",
        "outputId": "94a99467-fc4b-4d13-ff42-fd557218bbeb"
      },
      "execution_count": 22,
      "outputs": [
        {
          "output_type": "execute_result",
          "data": {
            "text/plain": [
              "[4, 16, 36, 64]"
            ]
          },
          "metadata": {},
          "execution_count": 22
        }
      ]
    },
    {
      "cell_type": "code",
      "source": [
        "original_list = [-2, -10, -1, -6, -8, -100]"
      ],
      "metadata": {
        "id": "9qswlxHcInqv"
      },
      "execution_count": 23,
      "outputs": []
    },
    {
      "cell_type": "code",
      "source": [],
      "metadata": {
        "id": "btrQWP6_JQgR"
      },
      "execution_count": null,
      "outputs": []
    }
  ]
}